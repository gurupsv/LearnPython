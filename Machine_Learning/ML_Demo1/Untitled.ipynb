{
 "cells": [
  {
   "cell_type": "code",
   "execution_count": 1,
   "id": "075a5e73-16ef-4c36-87a0-0d9e51bce7a5",
   "metadata": {},
   "outputs": [],
   "source": [
    "# This program adds two numbers\n",
    "num1 = 1\n",
    "num2 = 4\n",
    "\n",
    "# Add two numbers\n",
    "sum = num1 + num2\n"
   ]
  },
  {
   "cell_type": "code",
   "execution_count": 2,
   "id": "4990dfcf-c585-46d5-83d2-6e6427f15b4f",
   "metadata": {},
   "outputs": [
    {
     "name": "stdout",
     "output_type": "stream",
     "text": [
      "Sum of 1 and 4 is 5\n"
     ]
    }
   ],
   "source": [
    "#Display Sum\n",
    "print('Sum of {0} and {1} is {2}'.format(num1, num2, sum))"
   ]
  },
  {
   "cell_type": "code",
   "execution_count": null,
   "id": "e1df4e2e-2875-4774-9119-b8bbc4609c59",
   "metadata": {},
   "outputs": [],
   "source": []
  }
 ],
 "metadata": {
  "kernelspec": {
   "display_name": "Python 3 (ipykernel)",
   "language": "python",
   "name": "python3"
  },
  "language_info": {
   "codemirror_mode": {
    "name": "ipython",
    "version": 3
   },
   "file_extension": ".py",
   "mimetype": "text/x-python",
   "name": "python",
   "nbconvert_exporter": "python",
   "pygments_lexer": "ipython3",
   "version": "3.11.5"
  }
 },
 "nbformat": 4,
 "nbformat_minor": 5
}
